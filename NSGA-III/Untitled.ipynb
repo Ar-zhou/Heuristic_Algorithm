{
 "cells": [
  {
   "cell_type": "code",
   "execution_count": 1,
   "id": "8ad967f8",
   "metadata": {},
   "outputs": [],
   "source": [
    "from scipy.special import comb\n",
    "from itertools import combinations\n",
    "import numpy as np\n",
    "import copy\n",
    "import math"
   ]
  },
  {
   "cell_type": "code",
   "execution_count": 2,
   "id": "5f454274",
   "metadata": {},
   "outputs": [],
   "source": [
    "N = 5\n",
    "M = 5"
   ]
  },
  {
   "cell_type": "code",
   "execution_count": 3,
   "id": "7bc2b942",
   "metadata": {},
   "outputs": [],
   "source": [
    "H1 = 1\n",
    "while (comb(H1 + M - 1, M - 1) <= N):\n",
    "    H1 = H1 + 1\n",
    "H1 = H1 - 1"
   ]
  },
  {
   "cell_type": "code",
   "execution_count": 4,
   "id": "2cb19056",
   "metadata": {},
   "outputs": [
    {
     "data": {
      "text/plain": [
       "array([[0, 1, 2, 3],\n",
       "       [0, 1, 2, 4],\n",
       "       [0, 1, 3, 4],\n",
       "       [0, 2, 3, 4],\n",
       "       [1, 2, 3, 4]])"
      ]
     },
     "execution_count": 4,
     "metadata": {},
     "output_type": "execute_result"
    }
   ],
   "source": [
    "W1 = np.array(list(combinations(range(H1 + M - 1), M - 1)))\n",
    "W1"
   ]
  },
  {
   "cell_type": "code",
   "execution_count": 5,
   "id": "7feb80ef",
   "metadata": {
    "scrolled": true
   },
   "outputs": [
    {
     "data": {
      "text/plain": [
       "array([[0, 1, 2, 3],\n",
       "       [0, 1, 2, 3],\n",
       "       [0, 1, 2, 3],\n",
       "       [0, 1, 2, 3],\n",
       "       [0, 1, 2, 3]])"
      ]
     },
     "execution_count": 5,
     "metadata": {},
     "output_type": "execute_result"
    }
   ],
   "source": [
    "W2 = np.tile(np.array(list(range(M - 1))), (int(comb(H1 + M - 1, M - 1)), 1))\n",
    "W2"
   ]
  },
  {
   "cell_type": "code",
   "execution_count": 6,
   "id": "b8f0fbf1",
   "metadata": {},
   "outputs": [
    {
     "data": {
      "text/plain": [
       "array([[0, 0, 0, 0],\n",
       "       [0, 0, 0, 1],\n",
       "       [0, 0, 1, 1],\n",
       "       [0, 1, 1, 1],\n",
       "       [1, 1, 1, 1]])"
      ]
     },
     "execution_count": 6,
     "metadata": {},
     "output_type": "execute_result"
    }
   ],
   "source": [
    "W = np.array(list(combinations(range(H1 + M - 1), M - 1))) - np.tile(np.array(list(range(M - 1))),\n",
    "                                                                     (int(comb(H1 + M - 1, M - 1)), 1))\n",
    "W"
   ]
  },
  {
   "cell_type": "code",
   "execution_count": 7,
   "id": "a666fd8e",
   "metadata": {},
   "outputs": [
    {
     "data": {
      "text/plain": [
       "array([[0., 0., 0., 0., 1.],\n",
       "       [0., 0., 0., 1., 1.],\n",
       "       [0., 0., 1., 1., 1.],\n",
       "       [0., 1., 1., 1., 1.],\n",
       "       [1., 1., 1., 1., 1.]])"
      ]
     },
     "execution_count": 7,
     "metadata": {},
     "output_type": "execute_result"
    }
   ],
   "source": [
    "np.hstack((W, H1 + np.zeros((W.shape[0], 1))))"
   ]
  },
  {
   "cell_type": "code",
   "execution_count": 8,
   "id": "e83d3cec",
   "metadata": {},
   "outputs": [
    {
     "data": {
      "text/plain": [
       "array([[0., 0., 0., 0., 0.],\n",
       "       [0., 0., 0., 0., 1.],\n",
       "       [0., 0., 0., 1., 1.],\n",
       "       [0., 0., 1., 1., 1.],\n",
       "       [0., 1., 1., 1., 1.]])"
      ]
     },
     "execution_count": 8,
     "metadata": {},
     "output_type": "execute_result"
    }
   ],
   "source": [
    "np.hstack((np.zeros((W.shape[0], 1)), W))"
   ]
  },
  {
   "cell_type": "code",
   "execution_count": 1,
   "id": "391899c5",
   "metadata": {},
   "outputs": [
    {
     "data": {
      "text/plain": [
       "5"
      ]
     },
     "execution_count": 1,
     "metadata": {},
     "output_type": "execute_result"
    }
   ],
   "source": [
    "5%11"
   ]
  },
  {
   "cell_type": "code",
   "execution_count": 9,
   "id": "f86adaff",
   "metadata": {},
   "outputs": [],
   "source": [
    "# H1 = 1\n",
    "# while (comb(H1 + M - 1, M - 1) <= N):\n",
    "#     H1 = H1 + 1\n",
    "# H1 = H1 - 1\n",
    "# W = np.array(list(combinations(range(H1 + M - 1), M - 1))) - np.tile(np.array(list(range(M - 1))),\n",
    "#                                                                      (int(comb(H1 + M - 1, M - 1)), 1))\n",
    "# W = (np.hstack((W, H1 + np.zeros((W.shape[0], 1)))) - np.hstack((np.zeros((W.shape[0], 1)), W))) / H1\n",
    "# if H1 < M:\n",
    "#     H2 = 0\n",
    "#     while (comb(H1 + M - 1, M - 1) + comb(H2 + M - 1, M - 1) <= N):\n",
    "#         H2 = H2 + 1\n",
    "#     H2 = H2 - 1\n",
    "#     if H2 > 0:\n",
    "#         W2 = np.array(list(combinations(range(H2 + M - 1), M - 1))) - np.tile(np.array(list(range(M - 1))),\n",
    "#                                                                               (int(comb(H2 + M - 1, M - 1)), 1))\n",
    "#         W2 = (np.hstack((W2, H2 + np.zeros((W2.shape[0], 1)))) - np.hstack((np.zeros((W2.shape[0], 1)), W2))) / H2\n",
    "#         W2 = W2 / 2 + 1 / (2 * M)\n",
    "#         W = np.vstack((W, W2))  # 按列合并\n",
    "# W[W < 1e-6] = 1e-6\n",
    "# N = W.shape[0]"
   ]
  },
  {
   "cell_type": "code",
   "execution_count": 10,
   "id": "0d4522a8",
   "metadata": {},
   "outputs": [
    {
     "data": {
      "text/plain": [
       "45"
      ]
     },
     "execution_count": 10,
     "metadata": {},
     "output_type": "execute_result"
    }
   ],
   "source": [
    "N = 50\n",
    "M = 3\n",
    "H1 = 1\n",
    "while (comb(H1 + M - 1, M - 1) <= N):\n",
    "    H1 = H1 + 1\n",
    "H1 = H1 - 1\n",
    "W = np.array(list(combinations(range(H1 + M - 1), M - 1))) - np.tile(np.array(list(range(M - 1))),\n",
    "                                                                     (int(comb(H1 + M - 1, M - 1)), 1))\n",
    "W = (np.hstack((W, H1 + np.zeros((W.shape[0], 1)))) - np.hstack((np.zeros((W.shape[0], 1)), W))) / H1\n",
    "if H1 < M:\n",
    "    H2 = 0\n",
    "    while (comb(H1 + M - 1, M - 1) + comb(H2 + M - 1, M - 1) <= N):\n",
    "        H2 = H2 + 1\n",
    "    H2 = H2 - 1\n",
    "    if H2 > 0:\n",
    "        W2 = np.array(list(combinations(range(H2 + M - 1), M - 1))) - np.tile(np.array(list(range(M - 1))),\n",
    "                                                                              (int(comb(H2 + M - 1, M - 1)), 1))\n",
    "        W2 = (np.hstack((W2, H2 + np.zeros((W2.shape[0], 1)))) - np.hstack((np.zeros((W2.shape[0], 1)), W2))) / H2\n",
    "        W2 = W2 / 2 + 1 / (2 * M)\n",
    "        W = np.vstack((W, W2))  # 按列合并\n",
    "W[W < 1e-6] = 1e-6\n",
    "N = W.shape[0]\n",
    "N"
   ]
  },
  {
   "cell_type": "code",
   "execution_count": 25,
   "id": "0d3a8f93",
   "metadata": {
    "scrolled": false
   },
   "outputs": [
    {
     "data": {
      "text/plain": [
       "array([1., 2., 3.])"
      ]
     },
     "execution_count": 25,
     "metadata": {},
     "output_type": "execute_result"
    }
   ],
   "source": [
    "a = np.array([])\n",
    "np.append(a,np.array([1,2,3]), 0)"
   ]
  },
  {
   "cell_type": "code",
   "execution_count": 5,
   "id": "5173e46f",
   "metadata": {},
   "outputs": [
    {
     "data": {
      "text/plain": [
       "array([1.0e-06, 2.5e-01, 7.5e-01])"
      ]
     },
     "execution_count": 5,
     "metadata": {},
     "output_type": "execute_result"
    }
   ],
   "source": [
    "W[2][:]"
   ]
  },
  {
   "cell_type": "code",
   "execution_count": 13,
   "id": "168d2b1f",
   "metadata": {
    "scrolled": false
   },
   "outputs": [
    {
     "data": {
      "text/plain": [
       "[[2, 10, 5]]"
      ]
     },
     "execution_count": 13,
     "metadata": {},
     "output_type": "execute_result"
    }
   ],
   "source": [
    "a = [[2, 10, 5], [6, 7, 8]]\n",
    "b = np.array([[3,4,5], [1,2,3]])\n",
    "a.pop()\n",
    "a"
   ]
  },
  {
   "cell_type": "code",
   "execution_count": 12,
   "id": "25c574bb",
   "metadata": {},
   "outputs": [
    {
     "data": {
      "text/plain": [
       "array([[1.000001e+00, 1.000000e-06, 1.000000e-06],\n",
       "       [1.000000e-06, 1.000001e+00, 1.000000e-06],\n",
       "       [1.000000e-06, 1.000000e-06, 1.000001e+00]])"
      ]
     },
     "execution_count": 12,
     "metadata": {},
     "output_type": "execute_result"
    }
   ],
   "source": [
    "extreme = np.zeros(3)\n",
    "w = np.zeros((3,3)) + 1e-6 + np.eye(3)\n",
    "w"
   ]
  },
  {
   "cell_type": "code",
   "execution_count": 3,
   "id": "c9964fbf",
   "metadata": {},
   "outputs": [
    {
     "ename": "NameError",
     "evalue": "name 'true' is not defined",
     "output_type": "error",
     "traceback": [
      "\u001b[1;31m---------------------------------------------------------------------------\u001b[0m",
      "\u001b[1;31mNameError\u001b[0m                                 Traceback (most recent call last)",
      "\u001b[1;32m~\\AppData\\Local\\Temp/ipykernel_8312/1702639004.py\u001b[0m in \u001b[0;36m<module>\u001b[1;34m\u001b[0m\n\u001b[1;32m----> 1\u001b[1;33m \u001b[0mnp\u001b[0m\u001b[1;33m.\u001b[0m\u001b[0msum\u001b[0m\u001b[1;33m(\u001b[0m\u001b[0mnp\u001b[0m\u001b[1;33m.\u001b[0m\u001b[0marray\u001b[0m\u001b[1;33m(\u001b[0m\u001b[1;33m[\u001b[0m\u001b[0mtrue\u001b[0m\u001b[1;33m,\u001b[0m\u001b[0mtrue\u001b[0m\u001b[1;33m]\u001b[0m\u001b[1;33m)\u001b[0m\u001b[1;33m)\u001b[0m\u001b[1;33m\u001b[0m\u001b[1;33m\u001b[0m\u001b[0m\n\u001b[0m",
      "\u001b[1;31mNameError\u001b[0m: name 'true' is not defined"
     ]
    }
   ],
   "source": [
    "np.sum(np.array([true,true]))"
   ]
  },
  {
   "cell_type": "code",
   "execution_count": 14,
   "id": "1cb048cd",
   "metadata": {},
   "outputs": [],
   "source": [
    "class Node:\n",
    "    def __init__(self, at, node1=None, node2=None):\n",
    "        self.attribute = at\n",
    "        self.pa = node1\n",
    "        self.of = node2\n",
    "    def addnode(self, node):\n",
    "        self.pa = node\n",
    "        \n",
    "        "
   ]
  },
  {
   "cell_type": "code",
   "execution_count": 15,
   "id": "a370afe3",
   "metadata": {},
   "outputs": [],
   "source": [
    "node_a = Node(2)\n",
    "node_b = Node(3)\n",
    "node_a.addnode(node_b)\n",
    "node_b.addnode(node_a)"
   ]
  },
  {
   "cell_type": "code",
   "execution_count": null,
   "id": "82f77b2d",
   "metadata": {},
   "outputs": [],
   "source": [
    "node_a.pa."
   ]
  }
 ],
 "metadata": {
  "kernelspec": {
   "display_name": "Python 3 (ipykernel)",
   "language": "python",
   "name": "python3"
  },
  "language_info": {
   "codemirror_mode": {
    "name": "ipython",
    "version": 3
   },
   "file_extension": ".py",
   "mimetype": "text/x-python",
   "name": "python",
   "nbconvert_exporter": "python",
   "pygments_lexer": "ipython3",
   "version": "3.9.7"
  }
 },
 "nbformat": 4,
 "nbformat_minor": 5
}
